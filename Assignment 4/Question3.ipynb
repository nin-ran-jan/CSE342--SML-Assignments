{
 "cells": [
  {
   "cell_type": "code",
   "execution_count": 2,
   "metadata": {},
   "outputs": [
    {
     "name": "stdout",
     "output_type": "stream",
     "text": [
      "Reading  t10k-images.idx3-ubyte\n",
      "Reading  t10k-labels.idx1-ubyte\n",
      "Reading  train-images.idx3-ubyte\n",
      "Reading  train-labels.idx1-ubyte\n"
     ]
    },
    {
     "ename": "ModuleNotFoundError",
     "evalue": "No module named 'tensorflow'",
     "output_type": "error",
     "traceback": [
      "\u001b[1;31m---------------------------------------------------------------------------\u001b[0m",
      "\u001b[1;31mModuleNotFoundError\u001b[0m                       Traceback (most recent call last)",
      "\u001b[1;32m<ipython-input-2-9a6f1bd80141>\u001b[0m in \u001b[0;36m<module>\u001b[1;34m\u001b[0m\n\u001b[0;32m     42\u001b[0m \u001b[0mY\u001b[0m \u001b[1;33m=\u001b[0m \u001b[0mdata_dict\u001b[0m\u001b[1;33m[\u001b[0m\u001b[1;34m\"train_labels\"\u001b[0m\u001b[1;33m]\u001b[0m\u001b[1;33m.\u001b[0m\u001b[0mreshape\u001b[0m\u001b[1;33m(\u001b[0m\u001b[1;36m60000\u001b[0m\u001b[1;33m,\u001b[0m\u001b[1;36m1\u001b[0m\u001b[1;33m)\u001b[0m\u001b[1;33m\u001b[0m\u001b[1;33m\u001b[0m\u001b[0m\n\u001b[0;32m     43\u001b[0m \u001b[1;33m\u001b[0m\u001b[0m\n\u001b[1;32m---> 44\u001b[1;33m \u001b[1;32mfrom\u001b[0m \u001b[0mtensorflow\u001b[0m \u001b[1;32mimport\u001b[0m \u001b[0mkeras\u001b[0m\u001b[1;33m\u001b[0m\u001b[1;33m\u001b[0m\u001b[0m\n\u001b[0m\u001b[0;32m     45\u001b[0m \u001b[1;32mfrom\u001b[0m \u001b[0mkeras\u001b[0m\u001b[1;33m.\u001b[0m\u001b[0mlayers\u001b[0m \u001b[1;32mimport\u001b[0m \u001b[0mDropout\u001b[0m\u001b[1;33m\u001b[0m\u001b[1;33m\u001b[0m\u001b[0m\n\u001b[0;32m     46\u001b[0m \u001b[1;32mfrom\u001b[0m \u001b[0mkeras\u001b[0m\u001b[1;33m.\u001b[0m\u001b[0mcallbacks\u001b[0m \u001b[1;32mimport\u001b[0m \u001b[0mEarlyStopping\u001b[0m\u001b[1;33m\u001b[0m\u001b[1;33m\u001b[0m\u001b[0m\n",
      "\u001b[1;31mModuleNotFoundError\u001b[0m: No module named 'tensorflow'"
     ]
    }
   ],
   "source": [
    "import os,codecs\n",
    "import numpy as np\n",
    "import matplotlib.pyplot as plt\n",
    "\n",
    "# source for extracting mnist data - \n",
    "# https://github.com/Ghosh4AI/Data-Processors/blob/master/MNIST/MNIST_Loader.ipynb\n",
    "\n",
    "def get_int(b):   # CONVERTS 4 BYTES TO A INT\n",
    "    return int(codecs.encode(b, 'hex'), 16)\n",
    "\n",
    "def read_data():\n",
    "    datapath = 'mnist/'\n",
    "    files = os.listdir(datapath)\n",
    "    data_dict = {}\n",
    "    for file in files:\n",
    "        if file.endswith('ubyte'):\n",
    "            print('Reading ',file)\n",
    "            with open (datapath+file,'rb') as f:\n",
    "                data = f.read()\n",
    "                type = get_int(data[:4])\n",
    "                length = get_int(data[4:8])\n",
    "                if (type == 2051):\n",
    "                    category = 'images'\n",
    "                    num_rows = get_int(data[8:12])\n",
    "                    num_cols = get_int(data[12:16])\n",
    "                    parsed = np.frombuffer(data,dtype = np.uint8, offset = 16) \n",
    "                    parsed = parsed.reshape(length,num_rows,num_cols)          \n",
    "                elif(type == 2049):\n",
    "                    category = 'labels'\n",
    "                    parsed = np.frombuffer(data, dtype=np.uint8, offset=8)\n",
    "                    parsed = parsed.reshape(length)                      \n",
    "                if (length==10000):\n",
    "                    set = 'test'\n",
    "                elif (length==60000):\n",
    "                    set = 'train'\n",
    "                data_dict[set+'_'+category] = parsed\n",
    "    return data_dict\n",
    "\n",
    "data_dict = read_data()\n",
    "\n",
    "X = data_dict[\"train_images\"].reshape(60000,784)\n",
    "Y = data_dict[\"train_labels\"].reshape(60000,1)\n",
    "\n",
    "# from tensorflow import keras\n",
    "from keras.layers import Dropout\n",
    "from keras.callbacks import EarlyStopping\n",
    "from keras.models import Sequential\n",
    "from keras.layers import Dense, Activation\n",
    "from tensorflow.keras.utils import to_categorical\n",
    "from keras import initializers\n",
    "from tensorflow.keras import optimizers\n",
    "from matplotlib import pyplot\n",
    "from keras.callbacks import ModelCheckpoint\n",
    "from keras.models import load_model\n",
    "from tensorflow.keras.layers import BatchNormalization\n",
    "\n",
    "X = (X/255) - 0.5\n",
    "Y = (Y/255) - 0.5\n",
    "\n",
    "autoencoder = Sequential()\n",
    "layer1 = Dense(512, input_dim = 784, trainable = True, activation = \"relu\", use_bias = True,\n",
    "                kernel_initializer=\"random_normal\", bias_initializer=\"random_normal\")\n",
    "layer2 = Dense(128, trainable = True, activation = \"relu\", use_bias = True,\n",
    "                kernel_initializer=\"random_normal\", bias_initializer=\"random_normal\")(layer1)\n",
    "layer3 = Dense(64, trainable = True, activation = \"relu\", use_bias = True,\n",
    "                kernel_initializer=\"random_normal\", bias_initializer=\"random_normal\")(layer2)\n",
    "layer4 = Dense(128, trainable = True, activation = \"relu\", use_bias = True,\n",
    "                kernel_initializer=\"random_normal\", bias_initializer=\"random_normal\")(layer3)\n",
    "layer5 = Dense(512, trainable = True, activation = \"relu\", use_bias = True,\n",
    "                kernel_initializer=\"random_normal\", bias_initializer=\"random_normal\")(layer4)\n",
    "layer6 = Dense(784, trainable = True, activation = \"relu\", use_bias = True,\n",
    "                kernel_initializer=\"random_normal\", bias_initializer=\"random_normal\")(layer5)\n",
    "\n",
    "adam = optimizers.Adam(lr=0.001, beta_1=0.9, beta_2=0.999, epsilon=1e-8)\n",
    "\n",
    "autoencoder.add(layer1, layer2, layer3, layer4, layer5, layer6)\n",
    "\n",
    "autoencoder.compile(\n",
    "  optimizer=adam,\n",
    "  loss='mse',\n",
    "  metrics=['accuracy'],\n",
    ")\n",
    "\n",
    "autoencoder.summary()\n"
   ]
  }
 ],
 "metadata": {
  "kernelspec": {
   "display_name": "Python 3",
   "language": "python",
   "name": "python3"
  },
  "language_info": {
   "codemirror_mode": {
    "name": "ipython",
    "version": 3
   },
   "file_extension": ".py",
   "mimetype": "text/x-python",
   "name": "python",
   "nbconvert_exporter": "python",
   "pygments_lexer": "ipython3",
   "version": "3.8.5"
  }
 },
 "nbformat": 4,
 "nbformat_minor": 4
}
